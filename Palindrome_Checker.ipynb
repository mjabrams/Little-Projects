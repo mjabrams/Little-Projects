{
 "cells": [
  {
   "cell_type": "code",
   "execution_count": null,
   "metadata": {
    "collapsed": false
   },
   "outputs": [],
   "source": [
    "def palandrome(word):\n",
    "    \n",
    "    split = list(word)\n",
    "    reverse = split.reverse()\n",
    "    reverse_word = \"\".join(split)\n",
    "   \n",
    "    if len(word) > 1 and word == reverse_word:\n",
    "        print(word, \"is an palandrome\")\n",
    "        \n",
    "\n",
    "\n",
    "    \n",
    "        \n",
    " \n",
    "        \n",
    "        \n",
    "\n",
    "\n",
    "\n"
   ]
  }
 ],
 "metadata": {
  "kernelspec": {
   "display_name": "Python 3",
   "language": "python",
   "name": "python3"
  },
  "language_info": {
   "codemirror_mode": {
    "name": "ipython",
    "version": 3
   },
   "file_extension": ".py",
   "mimetype": "text/x-python",
   "name": "python",
   "nbconvert_exporter": "python",
   "pygments_lexer": "ipython3",
   "version": "3.5.1"
  }
 },
 "nbformat": 4,
 "nbformat_minor": 0
}

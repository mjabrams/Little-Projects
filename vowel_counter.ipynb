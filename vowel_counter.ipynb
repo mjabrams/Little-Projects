{
 "cells": [
  {
   "cell_type": "code",
   "execution_count": 12,
   "metadata": {
    "collapsed": false
   },
   "outputs": [],
   "source": [
    "def count_vowels(word):\n",
    "    vowels = ['a','e','i','o','u']\n",
    "    vowel_count = 0\n",
    "    \n",
    "    lowercase_string = word.lower()\n",
    "    string_list = list(lowercase_string)\n",
    "   \n",
    "    for letter in string_list:\n",
    "        if letter in vowels:\n",
    "            vowel_count = 0\n",
    "            vowel_count = vowel_count + 1\n",
    "    print(\"There are\", vowel_count, \"vowels in this word\")\n",
    "    \n",
    "            \n",
    "\n",
    "    "
   ]
  }
 ],
 "metadata": {
  "kernelspec": {
   "display_name": "Python 3",
   "language": "python",
   "name": "python3"
  },
  "language_info": {
   "codemirror_mode": {
    "name": "ipython",
    "version": 3
   },
   "file_extension": ".py",
   "mimetype": "text/x-python",
   "name": "python",
   "nbconvert_exporter": "python",
   "pygments_lexer": "ipython3",
   "version": "3.5.1"
  }
 },
 "nbformat": 4,
 "nbformat_minor": 0
}
